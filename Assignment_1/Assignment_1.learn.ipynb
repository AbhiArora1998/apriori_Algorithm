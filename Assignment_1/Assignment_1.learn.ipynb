{
 "cells": [
  {
   "cell_type": "code",
   "execution_count": null,
   "metadata": {},
   "outputs": [],
   "source": []
  },
  {
   "attachments": {},
   "cell_type": "markdown",
   "metadata": {},
   "source": [
    "# Reading the txt file"
   ]
  },
  {
   "cell_type": "code",
   "execution_count": 6,
   "metadata": {},
   "outputs": [
    {
     "name": "stdout",
     "output_type": "stream",
     "text": [
      "134\n",
      "\n",
      "235\n",
      "\n",
      "1235\n",
      "\n",
      "25\n",
      "\n"
     ]
    }
   ],
   "source": [
    "totalRows = 0\n",
    "totalValuesIntrasctions= []\n",
    "resultedFile= []\n",
    "path = '../data.txt'\n",
    "with open(path) as f: \n",
    "    lines = f.readlines()\n",
    "\n",
    "\n",
    "\n",
    "for line in lines: \n",
    "    if totalRows==0:\n",
    "        totalRows=line\n",
    "    else: \n",
    "        updatedFile = line.replace('\\t','')\n",
    "        updatedFile = updatedFile.replace(' ','')\n",
    "        totalValuesIntrasctions.append(updatedFile[1])\n",
    "        updatedFile = updatedFile[2:]\n",
    "        resultedFile.append(updatedFile)\n",
    "       \n",
    "        print(updatedFile)\n",
    "    \n",
    "    \n"
   ]
  },
  {
   "cell_type": "code",
   "execution_count": 7,
   "metadata": {},
   "outputs": [
    {
     "name": "stdout",
     "output_type": "stream",
     "text": [
      "134\n",
      "235\n",
      "1235\n",
      "25\n"
     ]
    }
   ],
   "source": [
    "count=0\n",
    "for line in resultedFile:\n",
    "    resultedFile[count] = line.replace('\\n','')\n",
    "    print(resultedFile[count])\n",
    "    count=1+count    "
   ]
  },
  {
   "attachments": {},
   "cell_type": "markdown",
   "metadata": {},
   "source": [
    "# Minimum Threshold "
   ]
  },
  {
   "cell_type": "code",
   "execution_count": 8,
   "metadata": {},
   "outputs": [
    {
     "name": "stdout",
     "output_type": "stream",
     "text": [
      "2.0\n",
      "['3', '3', '4', '2']\n",
      "['134', '235', '1235', '25']\n"
     ]
    }
   ],
   "source": [
    "minimum_confidence_percent = 50\n",
    "minimumSupport = (int(totalRows)*minimum_confidence_percent)/100\n",
    "print(minimumSupport)\n",
    "print(totalValuesIntrasctions)\n",
    "print(resultedFile)"
   ]
  },
  {
   "attachments": {},
   "cell_type": "markdown",
   "metadata": {},
   "source": [
    "# Counting the items"
   ]
  },
  {
   "cell_type": "code",
   "execution_count": 114,
   "metadata": {},
   "outputs": [
    {
     "name": "stdout",
     "output_type": "stream",
     "text": [
      "{'2': 4, '5': 3, '1': 2, '3': 3, '4': 1}\n"
     ]
    }
   ],
   "source": [
    "from collections import Counter\n",
    "totalRowsCounter=0\n",
    "totalItems = Counter()\n",
    "for line in resultedFile:\n",
    "\n",
    "    if totalRowsCounter==0:\n",
    "        totalItems=(Counter(line))\n",
    "    else:\n",
    "        totalItems=(Counter(line)) + totalItems\n",
    "    totalRowsCounter = totalRowsCounter+1\n",
    "    \n",
    "\n",
    "totalItems=dict(totalItems)\n",
    "print(totalItems)"
   ]
  },
  {
   "attachments": {},
   "cell_type": "markdown",
   "metadata": {},
   "source": [
    "# Removing the item which is less than minimum threshold "
   ]
  },
  {
   "cell_type": "code",
   "execution_count": 118,
   "metadata": {},
   "outputs": [
    {
     "name": "stdout",
     "output_type": "stream",
     "text": [
      "{'2': 4, '5': 3, '3': 3}\n"
     ]
    }
   ],
   "source": [
    "itemsTobeRemoved =[]\n",
    "for item in totalItems:\n",
    "    if totalItems[item] <= minimumSupport:\n",
    "        itemsTobeRemoved.append(item)\n",
    "  \n",
    "       \n",
    "for key in itemsTobeRemoved:\n",
    "    del totalItems[key]\n",
    "\n",
    "print(totalItems)"
   ]
  }
 ],
 "metadata": {
  "kernelspec": {
   "display_name": "Python 3",
   "language": "python",
   "name": "python3"
  },
  "language_info": {
   "codemirror_mode": {
    "name": "ipython",
    "version": 3
   },
   "file_extension": ".py",
   "mimetype": "text/x-python",
   "name": "python",
   "nbconvert_exporter": "python",
   "pygments_lexer": "ipython3",
   "version": "3.10.6"
  },
  "orig_nbformat": 4,
  "vscode": {
   "interpreter": {
    "hash": "fbc768028c3e6ead51d9a200ddcb2ec858ae62844dcd1994729a8279be9b48f2"
   }
  }
 },
 "nbformat": 4,
 "nbformat_minor": 2
}
