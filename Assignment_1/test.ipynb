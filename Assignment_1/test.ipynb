{
 "cells": [
  {
   "cell_type": "code",
   "execution_count": 103,
   "metadata": {},
   "outputs": [],
   "source": [
    "totalValuesIntransctions= []\r\n",
    "Transactions = []\r\n",
    "c={}\r\n",
    "l={}\r\n",
    "discarded_transactions={}\r\n",
    "initialSize = 1"
   ]
  },
  {
   "cell_type": "markdown",
   "metadata": {},
   "source": [
    "# Reading the txt file"
   ]
  },
  {
   "cell_type": "code",
   "execution_count": 104,
   "metadata": {},
   "outputs": [],
   "source": [
    "def test():\r\n",
    "    resultedFile= []\r\n",
    "    totalRows = 0\r\n",
    "    \r\n",
    "    with open('../data.txt','r') as f: \r\n",
    "        lines = f.readlines()\r\n",
    "\r\n",
    "\r\n",
    "\r\n",
    "    for line in lines: \r\n",
    "        if totalRows==0:\r\n",
    "            totalRows=line\r\n",
    "        else: \r\n",
    "            updatedFile = line.replace('\\t','')\r\n",
    "            updatedFile = updatedFile.replace(' ','')\r\n",
    "            totalValuesIntransctions.append(updatedFile[1])\r\n",
    "            updatedFile = updatedFile[2:]\r\n",
    "            updatedFile=list(updatedFile.replace('\\n',''))\r\n",
    "\r\n",
    "            resultedFile.append(updatedFile)\r\n",
    "        \r\n",
    "\r\n",
    "    return resultedFile, totalRows\r\n",
    "    \r\n"
   ]
  },
  {
   "cell_type": "code",
   "execution_count": 105,
   "metadata": {},
   "outputs": [
    {
     "name": "stdout",
     "output_type": "stream",
     "text": [
      "[['1', '3', '4'], ['2', '3', '5'], ['1', '2', '3', '5'], ['2', '5']]\n"
     ]
    }
   ],
   "source": [
    "Transactions,totalRows=test()\r\n",
    "print(Transactions)"
   ]
  },
  {
   "cell_type": "markdown",
   "metadata": {},
   "source": [
    "# Minimum Threshold "
   ]
  },
  {
   "cell_type": "code",
   "execution_count": 106,
   "metadata": {},
   "outputs": [
    {
     "name": "stdout",
     "output_type": "stream",
     "text": [
      "2.0\n",
      "['3', '3', '4', '2']\n",
      "[['1', '3', '4'], ['2', '3', '5'], ['1', '2', '3', '5'], ['2', '5']]\n"
     ]
    }
   ],
   "source": [
    "minimum_confidence_percent = 50\r\n",
    "minimumSupport = (int(totalRows)*minimum_confidence_percent)/100\r\n",
    "print(minimumSupport)\r\n",
    "print(totalValuesIntransctions)\r\n",
    "print(Transactions)"
   ]
  },
  {
   "cell_type": "markdown",
   "metadata": {},
   "source": [
    "# Counting the items"
   ]
  },
  {
   "cell_type": "code",
   "execution_count": 107,
   "metadata": {},
   "outputs": [
    {
     "name": "stdout",
     "output_type": "stream",
     "text": [
      "C1\n",
      "{'2': 3, '5': 3, '1': 2, '3': 3, '4': 1}\n",
      "[3, 3, 2, 3, 1]\n"
     ]
    }
   ],
   "source": [
    "from collections import Counter\r\n",
    "totalItems = Counter()\r\n",
    "for line in Transactions:\r\n",
    "\r\n",
    "    if totalRowsCounter==0:\r\n",
    "        totalItems=(Counter(line))\r\n",
    "    else:\r\n",
    "        totalItems=(Counter(line)) + totalItems\r\n",
    "    totalRowsCounter = totalRowsCounter+1\r\n",
    "    \r\n",
    "\r\n",
    "totalItems=dict(totalItems)\r\n",
    "print('C1')\r\n",
    "print(totalItems)\r\n",
    "print(list(totalItems.values()))\r\n"
   ]
  },
  {
   "cell_type": "code",
   "execution_count": 108,
   "metadata": {},
   "outputs": [
    {
     "name": "stdout",
     "output_type": "stream",
     "text": [
      "{1: [['2'], ['5'], ['1'], ['3'], ['4']]}\n"
     ]
    }
   ],
   "source": [
    "c.update({initialSize : [[f] for f in totalItems.keys()] })\r\n",
    "discarded_transactions.update({initialSize:[]})\r\n",
    "print(c)"
   ]
  },
  {
   "cell_type": "code",
   "execution_count": 109,
   "metadata": {},
   "outputs": [],
   "source": [
    "def count_occurence(receivedSets,Transactions):\r\n",
    "    totalRowsCounter=0\r\n",
    "    for i in range(len(Transactions)):\r\n",
    "        if set(receivedSets).issubset(set(Transactions[i])):\r\n",
    "            totalRowsCounter = totalRowsCounter+1\r\n",
    "    return totalRowsCounter\r\n",
    "    \r\n"
   ]
  },
  {
   "cell_type": "markdown",
   "metadata": {},
   "source": [
    "Put SOmething"
   ]
  },
  {
   "cell_type": "code",
   "execution_count": 116,
   "metadata": {},
   "outputs": [],
   "source": [
    "def get_frequent(receivedSets,ReceivedTransactions,receivedSupport,ReceivedDiscarded_transactions,receivedDiscarded_length):\r\n",
    "    l = []\r\n",
    "    countSupport= []\r\n",
    "    discardingItems = []\r\n",
    "    \r\n",
    "    for index in range(len(receivedSets)):\r\n",
    "        isDiscarded = -1\r\n",
    "        if receivedDiscarded_length > 0:\r\n",
    "            for items in ReceivedDiscarded_transactions[receivedDiscarded_length]:\r\n",
    "\r\n",
    "                if set(items).issubset(set(receivedSets[index])):\r\n",
    "                    isDiscarded = 0\r\n",
    "                    break\r\n",
    "\r\n",
    "        if isDiscarded != 0:\r\n",
    "            count = count_occurence(receivedSets[index],ReceivedTransactions)\r\n",
    "            if count >= receivedSupport:\r\n",
    "                l.append(receivedSets[index])\r\n",
    "                countSupport.append(count)\r\n",
    "            else:\r\n",
    "                discardingItems.append(receivedSets[index])\r\n",
    "    return l,countSupport,discardingItems"
   ]
  },
  {
   "cell_type": "code",
   "execution_count": 118,
   "metadata": {},
   "outputs": [
    {
     "name": "stdout",
     "output_type": "stream",
     "text": [
      "[['2'], ['5'], ['1'], ['3']]\n",
      "[['4']]\n",
      "[3, 3, 2, 3]\n"
     ]
    }
   ],
   "source": [
    "\r\n",
    "\r\n",
    "f, sup,newDiscarded = get_frequent(c[initialSize],Transactions,minimumSupport,discarded_transactions,len(discarded_transactions))\r\n",
    "print(f)\r\n",
    "print(newDiscarded)\r\n",
    "print(sup)"
   ]
  },
  {
   "cell_type": "markdown",
   "metadata": {},
   "source": []
  }
 ],
 "metadata": {
  "kernelspec": {
   "display_name": "Python 3.10.4 64-bit",
   "name": "python3104jvsc74a57bd02be5faf79681da6f2a61fdfdd5405d65d042280f7fba6178067603e3a2925119"
  },
  "language_info": {
   "codemirror_mode": {
    "name": "ipython",
    "version": 3
   },
   "file_extension": ".py",
   "mimetype": "text/x-python",
   "name": "python",
   "nbconvert_exporter": "python",
   "pygments_lexer": "ipython3",
   "version": "3.10.4"
  },
  "metadata": {
   "interpreter": {
    "hash": "2be5faf79681da6f2a61fdfdd5405d65d042280f7fba6178067603e3a2925119"
   }
  },
  "orig_nbformat": 2
 },
 "nbformat": 4,
 "nbformat_minor": 2
}