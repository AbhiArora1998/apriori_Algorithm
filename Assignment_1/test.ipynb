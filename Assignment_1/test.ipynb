{
 "cells": [
  {
   "cell_type": "code",
   "execution_count": 5,
   "metadata": {},
   "outputs": [],
   "source": [
    "totalValuesIntrasctions= []\r\n",
    "\r\n"
   ]
  },
  {
   "cell_type": "markdown",
   "metadata": {},
   "source": [
    "# Reading the txt file"
   ]
  },
  {
   "cell_type": "code",
   "execution_count": 13,
   "metadata": {},
   "outputs": [],
   "source": [
    "def test():\r\n",
    "    resultedFile= []\r\n",
    "    totalRows = 0\r\n",
    "    \r\n",
    "    with open('../data.txt','r') as f: \r\n",
    "        lines = f.readlines()\r\n",
    "\r\n",
    "\r\n",
    "\r\n",
    "    for line in lines: \r\n",
    "        if totalRows==0:\r\n",
    "            totalRows=line\r\n",
    "        else: \r\n",
    "            updatedFile = line.replace('\\t','')\r\n",
    "            updatedFile = updatedFile.replace(' ','')\r\n",
    "            totalValuesIntrasctions.append(updatedFile[1])\r\n",
    "            updatedFile = updatedFile[2:]\r\n",
    "            updatedFile=list(updatedFile.replace('\\n',''))\r\n",
    "\r\n",
    "            resultedFile.append(updatedFile)\r\n",
    "        \r\n",
    "\r\n",
    "    return resultedFile, totalRows\r\n",
    "    \r\n"
   ]
  },
  {
   "cell_type": "code",
   "execution_count": 14,
   "metadata": {},
   "outputs": [
    {
     "name": "stdout",
     "output_type": "stream",
     "text": [
      "[['1', '3', '4'], ['2', '3', '5'], ['1', '2', '3', '5'], ['2', '5']]\n"
     ]
    }
   ],
   "source": [
    "resultFile,totalRows=test()\r\n",
    "print(resultFile)"
   ]
  },
  {
   "cell_type": "markdown",
   "metadata": {},
   "source": [
    "# Minimum Threshold "
   ]
  },
  {
   "cell_type": "code",
   "execution_count": 12,
   "metadata": {},
   "outputs": [
    {
     "name": "stdout",
     "output_type": "stream",
     "text": [
      "2.0\n",
      "['3', '3', '4', '2', '3', '3', '4', '2']\n",
      "['134', '235', '1235', '25']\n"
     ]
    }
   ],
   "source": [
    "minimum_confidence_percent = 50\r\n",
    "minimumSupport = (int(totalRows)*minimum_confidence_percent)/100\r\n",
    "print(minimumSupport)\r\n",
    "print(totalValuesIntrasctions)\r\n",
    "print(resultFile)"
   ]
  },
  {
   "cell_type": "markdown",
   "metadata": {},
   "source": [
    "# Counting the items"
   ]
  },
  {
   "cell_type": "code",
   "execution_count": null,
   "metadata": {},
   "outputs": [],
   "source": [
    "from collections import Counter\r\n",
    "totalRowsCounter=0\r\n",
    "totalItems = Counter()\r\n",
    "for line in resultFile:\r\n",
    "\r\n",
    "    if totalRowsCounter==0:\r\n",
    "        totalItems=(Counter(line))\r\n",
    "    else:\r\n",
    "        totalItems=(Counter(line)) + totalItems\r\n",
    "    totalRowsCounter = totalRowsCounter+1\r\n",
    "    \r\n",
    "\r\n",
    "totalItems=dict(totalItems)\r\n",
    "print(totalItems)"
   ]
  },
  {
   "cell_type": "markdown",
   "metadata": {},
   "source": [
    "# Removing the item which is less than minimum threshold "
   ]
  },
  {
   "cell_type": "code",
   "execution_count": null,
   "metadata": {},
   "outputs": [],
   "source": [
    "itemsTobeRemoved =[]\r\n",
    "for item in totalItems:\r\n",
    "    if totalItems[item] <= minimumSupport:\r\n",
    "        itemsTobeRemoved.append(item)\r\n",
    "  \r\n",
    "       \r\n",
    "for key in itemsTobeRemoved:\r\n",
    "    del totalItems[key]\r\n",
    "\r\n",
    "print(totalItems)"
   ]
  }
 ],
 "metadata": {
  "kernelspec": {
   "display_name": "Python 3.10.4 64-bit",
   "name": "python3104jvsc74a57bd02be5faf79681da6f2a61fdfdd5405d65d042280f7fba6178067603e3a2925119"
  },
  "language_info": {
   "codemirror_mode": {
    "name": "ipython",
    "version": 3
   },
   "file_extension": ".py",
   "mimetype": "text/x-python",
   "name": "python",
   "nbconvert_exporter": "python",
   "pygments_lexer": "ipython3",
   "version": "3.10.4"
  },
  "metadata": {
   "interpreter": {
    "hash": "2be5faf79681da6f2a61fdfdd5405d65d042280f7fba6178067603e3a2925119"
   }
  },
  "orig_nbformat": 2
 },
 "nbformat": 4,
 "nbformat_minor": 2
}