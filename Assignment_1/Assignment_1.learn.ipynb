{
 "cells": [
  {
   "cell_type": "code",
   "execution_count": null,
   "metadata": {},
   "outputs": [],
   "source": [
    "totalRows = 0\r\n",
    "totalValuesIntrasctions= []\r\n",
    "resultedFile= []"
   ]
  },
  {
   "attachments": {},
   "cell_type": "markdown",
   "metadata": {},
   "source": [
    "# Reading the txt file"
   ]
  },
  {
   "cell_type": "code",
   "execution_count": null,
   "metadata": {},
   "outputs": [],
   "source": [
    "with open('../data.txt') as f: \r\n",
    "    lines = f.readlines()\r\n",
    "\r\n",
    "\r\n",
    "\r\n",
    "for line in lines: \r\n",
    "    if totalRows==0:\r\n",
    "        totalRows=line\r\n",
    "    else: \r\n",
    "        updatedFile = line.replace('\\t','')\r\n",
    "        updatedFile = updatedFile.replace(' ','')\r\n",
    "        totalValuesIntrasctions.append(updatedFile[1])\r\n",
    "        updatedFile = updatedFile[2:]\r\n",
    "        resultedFile.append(updatedFile)\r\n",
    "       \r\n",
    "        print(updatedFile)\r\n",
    "    \r\n",
    "    \r\n"
   ]
  },
  {
   "cell_type": "code",
   "execution_count": 71,
   "metadata": {},
   "outputs": [
    {
     "name": "stdout",
     "output_type": "stream",
     "text": [
      "134\n",
      "235\n",
      "1235\n",
      "252\n"
     ]
    }
   ],
   "source": [
    "count=0\n",
    "for line in resultedFile:\n",
    "    resultedFile[count] = line.replace('\\n','')\n",
    "    print(resultedFile[count])\n",
    "    count=1+count    "
   ]
  },
  {
   "attachments": {},
   "cell_type": "markdown",
   "metadata": {},
   "source": [
    "# Minimum Threshold "
   ]
  },
  {
   "cell_type": "code",
   "execution_count": 72,
   "metadata": {},
   "outputs": [
    {
     "name": "stdout",
     "output_type": "stream",
     "text": [
      "2.0\n",
      "['3', '3', '4', '2']\n",
      "['134', '235', '1235', '252']\n"
     ]
    }
   ],
   "source": [
    "minimum_confidence_percent = 50\n",
    "minimumSupport = (int(totalRows)*minimum_confidence_percent)/100\n",
    "print(minimumSupport)\n",
    "print(totalValuesIntrasctions)\n",
    "print(resultedFile)"
   ]
  },
  {
   "attachments": {},
   "cell_type": "markdown",
   "metadata": {},
   "source": [
    "# Counting the items"
   ]
  },
  {
   "cell_type": "code",
   "execution_count": 114,
   "metadata": {},
   "outputs": [
    {
     "name": "stdout",
     "output_type": "stream",
     "text": [
      "{'2': 4, '5': 3, '1': 2, '3': 3, '4': 1}\n"
     ]
    }
   ],
   "source": [
    "from collections import Counter\n",
    "totalRowsCounter=0\n",
    "totalItems = Counter()\n",
    "for line in resultedFile:\n",
    "\n",
    "    if totalRowsCounter==0:\n",
    "        totalItems=(Counter(line))\n",
    "    else:\n",
    "        totalItems=(Counter(line)) + totalItems\n",
    "    totalRowsCounter = totalRowsCounter+1\n",
    "    \n",
    "\n",
    "totalItems=dict(totalItems)\n",
    "print(totalItems)"
   ]
  },
  {
   "attachments": {},
   "cell_type": "markdown",
   "metadata": {},
   "source": [
    "# Removing the item which is less than minimum threshold "
   ]
  },
  {
   "cell_type": "code",
   "execution_count": 118,
   "metadata": {},
   "outputs": [
    {
     "name": "stdout",
     "output_type": "stream",
     "text": [
      "{'2': 4, '5': 3, '3': 3}\n"
     ]
    }
   ],
   "source": [
    "itemsTobeRemoved =[]\r\n",
    "for item in totalItems:\r\n",
    "    if totalItems[item] <= minimumSupport:\r\n",
    "        itemsTobeRemoved.append(item)\r\n",
    "  \r\n",
    "       \r\n",
    "for key in itemsTobeRemoved:\r\n",
    "    del totalItems[key]\r\n",
    "\r\n",
    "print(totalItems)"
   ]
  }
 ],
 "metadata": {
  "kernelspec": {
   "display_name": "Python 3",
   "language": "python",
   "name": "python3"
  },
  "language_info": {
   "codemirror_mode": {
    "name": "ipython",
    "version": 3
   },
   "file_extension": ".py",
   "mimetype": "text/x-python",
   "name": "python",
   "nbconvert_exporter": "python",
   "pygments_lexer": "ipython3",
   "version": "3.10.6 (tags/v3.10.6:9c7b4bd, Aug  1 2022, 21:53:49) [MSC v.1932 64 bit (AMD64)]"
  },
  "orig_nbformat": 4,
  "vscode": {
   "interpreter": {
    "hash": "fbc768028c3e6ead51d9a200ddcb2ec858ae62844dcd1994729a8279be9b48f2"
   }
  }
 },
 "nbformat": 4,
 "nbformat_minor": 2
}