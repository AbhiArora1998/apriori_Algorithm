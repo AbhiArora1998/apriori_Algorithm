{
 "cells": [
  {
   "cell_type": "code",
   "execution_count": 184,
   "metadata": {},
   "outputs": [],
   "source": [
    "totalValuesIntransctions= []\n",
    "Transactions = []\n",
    "c={}\n",
    "l={}\n",
    "discarded_transactions={} \n",
    "supportCount  = {}\n"
   ]
  },
  {
   "cell_type": "markdown",
   "metadata": {},
   "source": [
    "# Reading the txt file"
   ]
  },
  {
   "cell_type": "code",
   "execution_count": 192,
   "metadata": {},
   "outputs": [],
   "source": [
    "def test():\n",
    "    resultedFile= []\n",
    "    totalRows = 0\n",
    "    \n",
    "    with open('../data.txt','r') as f: \n",
    "        lines = f.readlines()\n",
    "\n",
    "\n",
    "\n",
    "    for line in lines: \n",
    "        if totalRows==0:\n",
    "            totalRows=line\n",
    "        else: \n",
    "            # updatedFile = line.replace('\\t','')\n",
    "            # updatedFile = updatedFile.replace(' ','')\n",
    "            updatedFile = line\n",
    "            totalValuesIntransctions.append(updatedFile[1])\n",
    "            print(line[3:])\n",
    "            updatedFile = updatedFile[2:]\n",
    "            updatedFile=list(updatedFile.replace('\\n',''))\n",
    "\n",
    "            resultedFile.append(updatedFile)\n",
    "        \n",
    "\n",
    "    return resultedFile, totalRows\n",
    "    \n"
   ]
  },
  {
   "cell_type": "code",
   "execution_count": 193,
   "metadata": {},
   "outputs": [
    {
     "name": "stdout",
     "output_type": "stream",
     "text": [
      "\t1 3 4\n",
      "\n",
      "\t2 3 5\n",
      "\n",
      "\t1 2 3 5\n",
      "\n",
      "\t2 5 \n",
      "\n",
      "[['3', '\\t', '1', ' ', '3', ' ', '4'], ['3', '\\t', '2', ' ', '3', ' ', '5'], ['4', '\\t', '1', ' ', '2', ' ', '3', ' ', '5'], ['2', '\\t', '2', ' ', '5', ' ']]\n"
     ]
    }
   ],
   "source": [
    "Transactions,totalRows=test()\n",
    "print(Transactions)"
   ]
  },
  {
   "cell_type": "markdown",
   "metadata": {},
   "source": [
    "# Minimum Threshold "
   ]
  },
  {
   "cell_type": "code",
   "execution_count": 173,
   "metadata": {},
   "outputs": [
    {
     "name": "stdout",
     "output_type": "stream",
     "text": [
      "500.0\n"
     ]
    }
   ],
   "source": [
    "minimum_confidence_percent = 50\n",
    "minimumSupport = (int(totalRows)*minimum_confidence_percent)/100\n",
    "print(minimumSupport)"
   ]
  },
  {
   "cell_type": "markdown",
   "metadata": {},
   "source": [
    "# Counting the items"
   ]
  },
  {
   "cell_type": "code",
   "execution_count": 174,
   "metadata": {},
   "outputs": [
    {
     "name": "stdout",
     "output_type": "stream",
     "text": [
      "C1\n",
      "{'0': 1458, '5': 1814, '2': 1910, '3': 1917, '4': 2162, '1': 2058, '6': 1807, '8': 2103, '9': 1955, '7': 1855}\n",
      "[1458, 1814, 1910, 1917, 2162, 2058, 1807, 2103, 1955, 1855]\n"
     ]
    }
   ],
   "source": [
    "from collections import Counter\n",
    "totalRowsCounter=0\n",
    "totalItems = Counter()\n",
    "for line in Transactions:\n",
    "\n",
    "    if totalRowsCounter==0:\n",
    "        totalItems=(Counter(line))\n",
    "    else:\n",
    "        totalItems=(Counter(line)) + totalItems\n",
    "    totalRowsCounter = totalRowsCounter+1\n",
    "    \n",
    "\n",
    "totalItems=dict(totalItems)\n",
    "print('C1')\n",
    "print(totalItems)\n",
    "print(list(totalItems.values()))\n"
   ]
  },
  {
   "cell_type": "code",
   "execution_count": 175,
   "metadata": {},
   "outputs": [
    {
     "name": "stdout",
     "output_type": "stream",
     "text": [
      "{1: [['0'], ['1'], ['2'], ['3'], ['4'], ['5'], ['6'], ['7'], ['8'], ['9']]}\n"
     ]
    }
   ],
   "source": [
    "\n",
    "initialSize = 1\n",
    "totalSize =1\n",
    "sortedOrder = sorted(totalItems.keys())\n",
    "c.update({initialSize : [[f] for f in sorted(totalItems.keys())] })\n",
    "\n",
    "discarded_transactions.update({initialSize:[]})\n",
    "print(c)"
   ]
  },
  {
   "cell_type": "code",
   "execution_count": 176,
   "metadata": {},
   "outputs": [],
   "source": [
    "def count_item(singleItemSet, Transactions):\n",
    "    counter = 0\n",
    "    for i in range(len(Transactions)):\n",
    "        if set(singleItemSet).issubset(set(Transactions[i])):\n",
    "            counter = counter+1\n",
    "    return counter"
   ]
  },
  {
   "cell_type": "code",
   "execution_count": 177,
   "metadata": {},
   "outputs": [],
   "source": [
    "def get_frequent(itemSet, initialTransactions, minimumSupport,discarded_transactions):\n",
    "    tempL = []\n",
    "    newDiscardedValue = []\n",
    "    itemCount = []\n",
    "    # First need to check if the itemset contains subset of items that was previously discarded\n",
    "    for i in range(len(itemSet)):\n",
    "        isDiscarded = False\n",
    "        # if lenght of discarded items is not 0\n",
    "        if len(discarded_transactions.keys()) > 0:\n",
    "            # this loop checks if there is any value in the item that was discarded before \n",
    "            for k in discarded_transactions[len(discarded_transactions.keys())]:\n",
    "                \n",
    "                if set(k).issubset(set(itemSet[i])):\n",
    "                    isDiscarded = True\n",
    "                    break\n",
    "        if isDiscarded == False:\n",
    "            itemCounter = count_item(itemSet[i],Transactions)\n",
    "            if itemCounter >= minimumSupport:\n",
    "                tempL.append(itemSet[i])\n",
    "                itemCount.append(itemCounter)\n",
    "            else:\n",
    "                newDiscardedValue.append(itemSet[i])\n",
    "\n",
    "    return tempL,itemCount,newDiscardedValue\n",
    "        \n"
   ]
  },
  {
   "cell_type": "code",
   "execution_count": 178,
   "metadata": {},
   "outputs": [],
   "source": [
    "receivedL,receiveditemCount,receivedDiscarededValue  =  get_frequent(c[initialSize],Transactions,minimumSupport,discarded_transactions)\n",
    "l.update({initialSize:receivedL})\n",
    "supportCount.update({initialSize:receiveditemCount})\n",
    "discarded_transactions.update({initialSize:receivedDiscarededValue})"
   ]
  },
  {
   "cell_type": "code",
   "execution_count": 179,
   "metadata": {},
   "outputs": [
    {
     "name": "stdout",
     "output_type": "stream",
     "text": [
      "[['0'], ['1'], ['2'], ['3'], ['4'], ['5'], ['6'], ['7'], ['8'], ['9']] candidates above threshold \n",
      "[735, 838, 827, 852, 858, 800, 815, 808, 833, 813]\n",
      "[]\n",
      "{1: [['0'], ['1'], ['2'], ['3'], ['4'], ['5'], ['6'], ['7'], ['8'], ['9']]} amount of candidates\n"
     ]
    }
   ],
   "source": [
    "print(receivedL,'candidates above threshold ')\n",
    "print(receiveditemCount)\n",
    "print(receivedDiscarededValue)\n",
    "print(c,'amount of candidates')"
   ]
  },
  {
   "cell_type": "code",
   "execution_count": 180,
   "metadata": {},
   "outputs": [],
   "source": [
    "def join_two_itemsets(firstItem,secondItem,sortedOrder):\n",
    "    firstItem.sort(key=lambda y: sortedOrder.index(y))\n",
    "    secondItem.sort(key=lambda j: sortedOrder.index(j))\n",
    "\n",
    "    for i in range(len(firstItem)):\n",
    "        if firstItem[i] == secondItem[i]:\n",
    "            return []\n",
    "    if sortedOrder.index(firstItem[-1]) < sortedOrder.index(secondItem[-1]):\n",
    "            return firstItem + [secondItem[-1]]\n",
    "\n",
    "    return []\n"
   ]
  },
  {
   "cell_type": "code",
   "execution_count": 181,
   "metadata": {},
   "outputs": [],
   "source": [
    "def joinItemset(items,initialItem):\n",
    "    # print(items,initialItem,\"i am joinItemset\")\n",
    "    tempC = []\n",
    "    for i in range(len(items)-1):\n",
    "        for j in range(i+1,len(items)):\n",
    "            # print(items[i],items[j],initialItem,\"i am joinItemset sending this\")\n",
    "\n",
    "            itOut = join_two_itemsets(items[i],items[j],initialItem)\n",
    "            if len (itOut)>0:\n",
    "                tempC.append(itOut)\n",
    "    return tempC\n",
    "            "
   ]
  },
  {
   "cell_type": "code",
   "execution_count": 116,
   "metadata": {},
   "outputs": [],
   "source": [
    "print()"
   ]
  },
  {
   "cell_type": "code",
   "execution_count": 182,
   "metadata": {},
   "outputs": [],
   "source": [
    "totalSize = initialSize + totalSize\n",
    "noMoreItems = False\n",
    "while noMoreItems == False:\n",
    "    joinedSet = joinItemset(l[totalSize-1],sortedOrder)\n",
    "    # joinedSet = joinItemset(l[totalSize],sortedOrder)\n",
    "    # print(joinedSet)\n",
    "    c.update({totalSize:joinedSet})\n",
    "    receivedL,receiveditemCount,receivedDiscarededValue = get_frequent(c[totalSize],Transactions,minimumSupport,discarded_transactions)\n",
    "    discarded_transactions.update({totalSize:receivedDiscarededValue})\n",
    "    l.update({totalSize:receivedL})\n",
    "    supportCount.update({totalSize:receiveditemCount})\n",
    "    totalSize = totalSize+initialSize\n",
    "    if len(receivedL) <1:\n",
    "        noMoreItems = True\n",
    "    noMoreItems = True"
   ]
  },
  {
   "cell_type": "code",
   "execution_count": 183,
   "metadata": {},
   "outputs": [
    {
     "name": "stdout",
     "output_type": "stream",
     "text": [
      "{1: [['0'], ['1'], ['2'], ['3'], ['4'], ['5'], ['6'], ['7'], ['8'], ['9']], 2: [['0', '1'], ['0', '2'], ['0', '3'], ['0', '4'], ['0', '5'], ['0', '6'], ['0', '7'], ['0', '8'], ['0', '9'], ['1', '2'], ['1', '3'], ['1', '4'], ['1', '5'], ['1', '6'], ['1', '7'], ['1', '8'], ['1', '9'], ['2', '3'], ['2', '4'], ['2', '5'], ['2', '6'], ['2', '7'], ['2', '8'], ['2', '9'], ['3', '4'], ['3', '5'], ['3', '6'], ['3', '7'], ['3', '8'], ['3', '9'], ['4', '5'], ['4', '6'], ['4', '7'], ['4', '8'], ['4', '9'], ['5', '6'], ['5', '7'], ['5', '8'], ['5', '9'], ['6', '7'], ['6', '8'], ['6', '9'], ['7', '8'], ['7', '9'], ['8', '9']]}\n",
      "{1: [], 2: []}\n"
     ]
    }
   ],
   "source": [
    "print(l)\n",
    "print(discarded_transactions)"
   ]
  },
  {
   "cell_type": "code",
   "execution_count": 118,
   "metadata": {},
   "outputs": [
    {
     "name": "stdout",
     "output_type": "stream",
     "text": [
      "[['2'], ['5'], ['1'], ['3']]\n",
      "[['4']]\n",
      "[3, 3, 2, 3]\n"
     ]
    }
   ],
   "source": [
    "\r\n",
    "\r\n",
    "f, sup,newDiscarded = get_frequent(c[initialSize],Transactions,minimumSupport,discarded_transactions,len(discarded_transactions))\r\n",
    "print(f)\r\n",
    "print(newDiscarded)\r\n",
    "print(sup)"
   ]
  },
  {
   "cell_type": "markdown",
   "metadata": {},
   "source": []
  }
 ],
 "metadata": {
  "kernelspec": {
   "display_name": "Python 3",
   "language": "python",
   "name": "python3"
  },
  "language_info": {
   "codemirror_mode": {
    "name": "ipython",
    "version": 3
   },
   "file_extension": ".py",
   "mimetype": "text/x-python",
   "name": "python",
   "nbconvert_exporter": "python",
   "pygments_lexer": "ipython3",
   "version": "3.10.6"
  },
  "metadata": {
   "interpreter": {
    "hash": "2be5faf79681da6f2a61fdfdd5405d65d042280f7fba6178067603e3a2925119"
   }
  },
  "orig_nbformat": 2,
  "vscode": {
   "interpreter": {
    "hash": "fbc768028c3e6ead51d9a200ddcb2ec858ae62844dcd1994729a8279be9b48f2"
   }
  }
 },
 "nbformat": 4,
 "nbformat_minor": 2
}
