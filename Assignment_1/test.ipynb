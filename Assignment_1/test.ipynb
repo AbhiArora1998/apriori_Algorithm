{
 "cells": [
  {
   "cell_type": "code",
   "execution_count": 59,
   "metadata": {},
   "outputs": [],
   "source": [
    "totalValuesIntransctions= []\n",
    "Transactions = []\n",
    "c={}\n",
    "l={}\n",
    "discarded_transactions={} \n",
    "supportCount  = {}\n"
   ]
  },
  {
   "cell_type": "markdown",
   "metadata": {},
   "source": [
    "# Reading the txt file"
   ]
  },
  {
   "cell_type": "code",
   "execution_count": 60,
   "metadata": {},
   "outputs": [],
   "source": [
    "def test():\r\n",
    "    resultedFile= []\r\n",
    "    totalRows = 0\r\n",
    "    \r\n",
    "    with open('../data.txt','r') as f: \r\n",
    "        lines = f.readlines()\r\n",
    "\r\n",
    "\r\n",
    "\r\n",
    "    for line in lines: \r\n",
    "        if totalRows==0:\r\n",
    "            totalRows=line\r\n",
    "        else: \r\n",
    "            # updatedFile = line.replace('\\t','')\r\n",
    "            # updatedFile = updatedFile.replace(' ','')\r\n",
    "            # updatedFile = line\r\n",
    "            totalValuesIntransctions.append(line[1])\r\n",
    "            line = line[4:]\r\n",
    "            # print(updatedFile)\r\n",
    "            # updatedFile=list(updatedFile.replace('\\n',''))\r\n",
    "\r\n",
    "            updatedFile = line.split()\r\n",
    "            # updatedFile=list(updatedFile.replace('\\n',''))\r\n",
    "\r\n",
    "            resultedFile.append(updatedFile)\r\n",
    "        \r\n",
    "\r\n",
    "    return resultedFile, totalRows\r\n",
    "    \r\n"
   ]
  },
  {
   "cell_type": "code",
   "execution_count": 61,
   "metadata": {},
   "outputs": [
    {
     "name": "stdout",
     "output_type": "stream",
     "text": [
      "[['1', '3', '4'], ['2', '3', '5'], ['1', '2', '3', '5'], ['2', '5']]\n"
     ]
    }
   ],
   "source": [
    "Transactions,totalRows=test()\r\n",
    "print(Transactions)"
   ]
  },
  {
   "cell_type": "markdown",
   "metadata": {},
   "source": [
    "# Minimum Threshold "
   ]
  },
  {
   "cell_type": "code",
   "execution_count": 62,
   "metadata": {},
   "outputs": [
    {
     "name": "stdout",
     "output_type": "stream",
     "text": [
      "2.0\n"
     ]
    }
   ],
   "source": [
    "minimum_confidence_percent = 50\r\n",
    "minimumSupport = (int(totalRows)*minimum_confidence_percent)/100\r\n",
    "print(minimumSupport)"
   ]
  },
  {
   "cell_type": "markdown",
   "metadata": {},
   "source": [
    "# Counting the items"
   ]
  },
  {
   "cell_type": "code",
   "execution_count": 63,
   "metadata": {},
   "outputs": [
    {
     "name": "stdout",
     "output_type": "stream",
     "text": [
      "Counter({'3': 2, '2': 1, '5': 1, '1': 1, '4': 1})\n",
      "Counter({'3': 3, '1': 2, '2': 2, '5': 2, '4': 1})\n",
      "Counter({'2': 3, '5': 3, '3': 3, '1': 2, '4': 1})\n",
      "C1\n",
      "{'2': 3, '5': 3, '1': 2, '3': 3, '4': 1}\n",
      "[3, 3, 2, 3, 1]\n"
     ]
    }
   ],
   "source": [
    "from collections import Counter\r\n",
    "totalRowsCounter=0\r\n",
    "totalItems = Counter()\r\n",
    "for line in Transactions:\r\n",
    "\r\n",
    "    if totalRowsCounter==0:\r\n",
    "        totalItems=(Counter(line))\r\n",
    "    else:\r\n",
    "        totalItems=(Counter(line)) + totalItems\r\n",
    "        print(totalItems)\r\n",
    "    totalRowsCounter = totalRowsCounter+1\r\n",
    "    \r\n",
    "\r\n",
    "totalItems=dict(totalItems)\r\n",
    "print('C1')\r\n",
    "print(totalItems)\r\n",
    "print(list(totalItems.values()))\r\n"
   ]
  },
  {
   "cell_type": "code",
   "execution_count": 64,
   "metadata": {},
   "outputs": [],
   "source": [
    "\r\n",
    "initialSize = 1\r\n",
    "totalSize =1\r\n",
    "sortedOrder = sorted(totalItems.keys())\r\n",
    "c.update({initialSize : [[f] for f in sorted(totalItems.keys())] })\r\n",
    "\r\n",
    "discarded_transactions.update({initialSize:[]})\r\n",
    "# print(c)"
   ]
  },
  {
   "cell_type": "code",
   "execution_count": 65,
   "metadata": {},
   "outputs": [],
   "source": [
    "def count_item(singleItemSet, Transactions):\n",
    "    counter = 0\n",
    "    for i in range(len(Transactions)):\n",
    "        if set(singleItemSet).issubset(set(Transactions[i])):\n",
    "            counter = counter+1\n",
    "    return counter"
   ]
  },
  {
   "cell_type": "code",
   "execution_count": 66,
   "metadata": {},
   "outputs": [],
   "source": [
    "def get_frequent(itemSet, initialTransactions, minimumSupport,discarded_transactions):\r\n",
    "    tempL = []\r\n",
    "    newDiscardedValue = []\r\n",
    "    itemCount = []\r\n",
    "    # First need to check if the itemset contains subset of items that was previously discarded\r\n",
    "    for i in range(len(itemSet)):\r\n",
    "        isDiscarded = False\r\n",
    "        # if lenght of discarded items is not 0\r\n",
    "        if len(discarded_transactions.keys()) > 0:\r\n",
    "            # this loop checks if there is any value in the item that was discarded before \r\n",
    "            for k in discarded_transactions[len(discarded_transactions.keys())]:\r\n",
    "                \r\n",
    "                if set(k).issubset(set(itemSet[i])):\r\n",
    "                    isDiscarded = True\r\n",
    "                    break\r\n",
    "        if isDiscarded == False:\r\n",
    "            itemCounter = count_item(itemSet[i],initialTransactions)\r\n",
    "            if itemCounter >= minimumSupport:\r\n",
    "                tempL.append(itemSet[i])\r\n",
    "                itemCount.append(itemCounter)\r\n",
    "            else:\r\n",
    "                newDiscardedValue.append(itemSet[i])\r\n",
    "\r\n",
    "    return tempL,itemCount,newDiscardedValue\r\n",
    "        \r\n"
   ]
  },
  {
   "cell_type": "code",
   "execution_count": 67,
   "metadata": {},
   "outputs": [],
   "source": [
    "receivedL,receiveditemCount,receivedDiscarededValue  =  get_frequent(c[1],Transactions,minimumSupport,discarded_transactions)\r\n",
    "l.update({initialSize:receivedL})\r\n",
    "supportCount.update({initialSize:receiveditemCount})\r\n",
    "discarded_transactions.update({initialSize:receivedDiscarededValue})"
   ]
  },
  {
   "cell_type": "code",
   "execution_count": 68,
   "metadata": {},
   "outputs": [
    {
     "name": "stdout",
     "output_type": "stream",
     "text": [
      "[['1'], ['2'], ['3'], ['5']] candidates above threshold \n",
      "[2, 3, 3, 3]\n",
      "[['4']]\n",
      "[['1'], ['2'], ['3'], ['4'], ['5']] amount of candidates\n",
      "{1: [['1'], ['2'], ['3'], ['5']]}\n"
     ]
    }
   ],
   "source": [
    "print(receivedL,'candidates above threshold ')\r\n",
    "print(receiveditemCount)\r\n",
    "print(receivedDiscarededValue)\r\n",
    "print(c,'amount of candidates')\r\n",
    "print(l)"
   ]
  },
  {
   "cell_type": "code",
   "execution_count": 30,
   "metadata": {},
   "outputs": [],
   "source": [
    "def join_two_itemsets(firstItem,secondItem,sortedOrder):\n",
    "    firstItem.sort(key=lambda y: sortedOrder.index(y))\n",
    "    secondItem.sort(key=lambda j: sortedOrder.index(j))\n",
    "\n",
    "    for i in range(len(firstItem)):\n",
    "        if firstItem[i] == secondItem[i]:\n",
    "            return []\n",
    "    if sortedOrder.index(firstItem[-1]) < sortedOrder.index(secondItem[-1]):\n",
    "            return firstItem + [secondItem[-1]]\n",
    "\n",
    "    return []\n"
   ]
  },
  {
   "cell_type": "code",
   "execution_count": 31,
   "metadata": {},
   "outputs": [],
   "source": [
    "def joinItemset(items,initialItem):\n",
    "    # print(items,initialItem,\"i am joinItemset\")\n",
    "    tempC = []\n",
    "    for i in range(len(items)-1):\n",
    "        for j in range(i+1,len(items)):\n",
    "            # print(items[i],items[j],initialItem,\"i am joinItemset sending this\")\n",
    "\n",
    "            itOut = join_two_itemsets(items[i],items[j],initialItem)\n",
    "            if len (itOut)>0:\n",
    "                tempC.append(itOut)\n",
    "    return tempC\n",
    "            "
   ]
  },
  {
   "cell_type": "code",
   "execution_count": 116,
   "metadata": {},
   "outputs": [],
   "source": [
    "print()"
   ]
  },
  {
   "cell_type": "code",
   "execution_count": 32,
   "metadata": {},
   "outputs": [],
   "source": [
    "totalSize = initialSize + totalSize\n",
    "noMoreItems = False\n",
    "while noMoreItems == False:\n",
    "    joinedSet = joinItemset(l[totalSize-1],sortedOrder)\n",
    "    # joinedSet = joinItemset(l[totalSize],sortedOrder)\n",
    "    # print(joinedSet)\n",
    "    c.update({totalSize:joinedSet})\n",
    "    receivedL,receiveditemCount,receivedDiscarededValue = get_frequent(c[totalSize],Transactions,minimumSupport,discarded_transactions)\n",
    "    discarded_transactions.update({totalSize:receivedDiscarededValue})\n",
    "    l.update({totalSize:receivedL})\n",
    "    supportCount.update({totalSize:receiveditemCount})\n",
    "    totalSize = totalSize+initialSize\n",
    "    if len(receivedL) <1:\n",
    "        noMoreItems = True"
   ]
  },
  {
   "cell_type": "code",
   "execution_count": 33,
   "metadata": {},
   "outputs": [
    {
     "name": "stdout",
     "output_type": "stream",
     "text": [
      "{1: [['1'], ['2'], ['3'], ['5']], 2: [['1', '3'], ['2', '3'], ['2', '5'], ['3', '5']], 3: [['2', '3', '5']], 4: []}\n"
     ]
    }
   ],
   "source": [
    "print(l)\n"
   ]
  },
  {
   "cell_type": "markdown",
   "metadata": {},
   "source": []
  }
 ],
 "metadata": {
  "kernelspec": {
   "display_name": "Python 3",
   "language": "python",
   "name": "python3"
  },
  "language_info": {
   "codemirror_mode": {
    "name": "ipython",
    "version": 3
   },
   "file_extension": ".py",
   "mimetype": "text/x-python",
   "name": "python",
   "nbconvert_exporter": "python",
   "pygments_lexer": "ipython3",
   "version": "3.10.6"
  },
  "metadata": {
   "interpreter": {
    "hash": "2be5faf79681da6f2a61fdfdd5405d65d042280f7fba6178067603e3a2925119"
   }
  },
  "orig_nbformat": 2,
  "vscode": {
   "interpreter": {
    "hash": "fbc768028c3e6ead51d9a200ddcb2ec858ae62844dcd1994729a8279be9b48f2"
   }
  }
 },
 "nbformat": 4,
 "nbformat_minor": 2
}